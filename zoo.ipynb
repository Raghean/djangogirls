{
 "cells": [
  {
   "cell_type": "code",
   "execution_count": null,
   "metadata": {},
   "outputs": [],
   "source": [
    "#create a function called hours()\n",
    "def hours(str):\n",
    "    \"The business hours when the zoo is open\"\n",
    "    print(str)\n",
    "    return;\n",
    "\n",
    "#call function\n",
    "hours(\"open 9 to 5 daily!\")\n"
   ]
  }
 ],
 "metadata": {
  "kernelspec": {
   "display_name": "Python 3.9.2 ('myvenv': venv)",
   "language": "python",
   "name": "python3"
  },
  "language_info": {
   "name": "python",
   "version": "3.9.2"
  },
  "orig_nbformat": 4,
  "vscode": {
   "interpreter": {
    "hash": "bb9c8871708d8273e6c54146a48da20e8ae0863c4477008ef4c03602b7ab94e3"
   }
  }
 },
 "nbformat": 4,
 "nbformat_minor": 2
}
